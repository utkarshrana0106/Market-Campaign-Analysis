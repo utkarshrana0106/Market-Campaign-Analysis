{
 "cells": [
  {
   "cell_type": "markdown",
   "metadata": {},
   "source": [
    "# Market Campaign Analysis\n",
    "This project aims to analyze the effectiveness of two marketing campaigns, Facebook and AdWords, in terms of clicks, conversions, and cost. The analysis involves data cleaning, exploratory data analysis, hypothesis testing, and regression analysis to identify the most effective platform for maximizing return on investment (ROI)."
   ]
  },
  {
   "cell_type": "markdown",
   "metadata": {},
   "source": [
    "### Objective:\r\n",
    "As a marketing agency, our primary goal is to maximize the return on investment (ROI) for our clients' advertising campaigns. We've conducted two ad campaigns—one on Facebook and the other on AdWords. Our aim is to determine which platform delivers superior results in terms of clicks, conversions, and overall cost-effectiveness. Identifying the most effective platform will enable us to allocate resources more efficiently and optimize our advertising strategies to achieve better outcomes for our clients."
   ]
  },
  {
   "cell_type": "markdown",
   "metadata": {},
   "source": [
    "##### Libraries used"
   ]
  },
  {
   "cell_type": "code",
   "execution_count": null,
   "metadata": {
    "collapsed": false,
    "jupyter": {
     "outputs_hidden": false
    },
    "tags": []
   },
   "outputs": [],
   "source": [
    "import pandas as pd\n",
    "import matplotlib.pyplot as plt\n",
    "import seaborn as sns\n",
    "import numpy as np\n",
    "from sklearn.linear_model import LinearRegression\n",
    "from sklearn.metrics import r2_score,mean_squared_error\n",
    "from statsmodels.tsa.seasonal import seasonal_decompose\n",
    "from statsmodels.tsa.stattools import coint\n",
    "import warnings\n",
    "warnings.filterwarnings('ignore')"
   ]
  },
  {
   "cell_type": "markdown",
   "metadata": {},
   "source": [
    "##### Data Desciptions : \n",
    "The dataset comprises performance data for two separate advertising campaigns conducted throughout 2019: a Facebook Ad campaign and an AdWords campaign. It contains 365 rows, one for each day of the year, with various metrics to analyze the campaigns' effectiveness and efficiency.\n",
    "\n",
    "Key features included:\n",
    "\n",
    "- Date: The date corresponding to each campaign data row, ranging from January 1st to December 31st, 2019.\n",
    "- Ad Views: The number of times the ad was viewed.\n",
    "- Ad Clicks: The number of clicks received on the ad.\n",
    "- Ad Conversions: The number of conversions resulting from the ad.\n",
    "- Cost per Ad: The cost associated with running the Facebook ad campaign.\n",
    "- Click-Through Rate (CTR): The ratio of clicks to views, indicating the ad's effectiveness in generating clicks.\n",
    "- Conversion Rate: The ratio of conversions to clicks, reflecting the ad's effectiveness in driving desired actions.\n",
    "- Cost per Click (CPC): The average cost incurred per click on the ad."
   ]
  },
  {
   "cell_type": "code",
   "execution_count": null,
   "metadata": {
    "collapsed": false,
    "jupyter": {
     "outputs_hidden": false
    },
    "tags": []
   },
   "outputs": [],
   "source": [
    "data = pd.read_csv('marketing_campaign.csv')"
   ]
  },
  {
   "cell_type": "code",
   "execution_count": null,
   "metadata": {
    "collapsed": false,
    "jupyter": {
     "outputs_hidden": false
    },
    "scrolled": true,
    "tags": []
   },
   "outputs": [],
   "source": [
    "data"
   ]
  },
  {
   "cell_type": "code",
   "execution_count": null,
   "metadata": {
    "collapsed": false,
    "jupyter": {
     "outputs_hidden": false
    },
    "tags": []
   },
   "outputs": [],
   "source": [
    "data.dtypes"
   ]
  },
  {
   "cell_type": "code",
   "execution_count": null,
   "metadata": {
    "collapsed": false,
    "jupyter": {
     "outputs_hidden": false
    },
    "tags": []
   },
   "outputs": [],
   "source": [
    "data['Date'] = pd.to_datetime(data['Date'])"
   ]
  },
  {
   "cell_type": "code",
   "execution_count": null,
   "metadata": {
    "collapsed": false,
    "jupyter": {
     "outputs_hidden": false
    },
    "tags": []
   },
   "outputs": [],
   "source": [
    "data.describe()"
   ]
  },
  {
   "cell_type": "markdown",
   "metadata": {
    "collapsed": false,
    "jupyter": {
     "outputs_hidden": false
    },
    "tags": []
   },
   "source": [
    "# Comparing Campaign Performances"
   ]
  },
  {
   "cell_type": "code",
   "execution_count": null,
   "metadata": {
    "collapsed": false,
    "jupyter": {
     "outputs_hidden": false
    }
   },
   "outputs": [],
   "source": [
    "# distribution of clicks and conversions\n",
    "\n",
    "plt.figure(figsize = (15,6))\n",
    "plt.subplot(1,2,1)\n",
    "plt.title('Facebook Ad Clicks')\n",
    "sns.histplot(data['Facebook Ad Clicks'], bins = 7,edgecolor = 'k', kde = True)\n",
    "plt.subplot(1,2,2)\n",
    "plt.title('Facebook Ad Conversions')\n",
    "sns.histplot(data['Facebook Ad Conversions'], bins = 7,edgecolor = 'k', kde = True)\n",
    "plt.show()\n",
    "\n",
    "plt.figure(figsize = (15,6))\n",
    "plt.subplot(1,2,1)\n",
    "plt.title('AdWords Ad Clicks')\n",
    "sns.histplot(data['AdWords Ad Clicks'], bins = 7,edgecolor = 'k', kde = True)\n",
    "plt.subplot(1,2,2)\n",
    "plt.title('AdWords Ad Conversions')\n",
    "sns.histplot(data['AdWords Ad Conversions'], bins = 7,edgecolor = 'k', kde = True)\n",
    "plt.show()"
   ]
  },
  {
   "cell_type": "markdown",
   "metadata": {},
   "source": [
    "The histograms exhibit a somewhat symmetrical shape, suggesting a relatively even distribution of clicks and conversions. In other words, there are not many outliers on either the high or low end for the number of clicks or conversions."
   ]
  },
  {
   "cell_type": "markdown",
   "metadata": {},
   "source": [
    "#### How often do we observe days with high number of conversions compared to days with low numbers of conversions?\n",
    "determine the frequency of days with high conversion rates compared to days with low conversion rates"
   ]
  },
  {
   "cell_type": "code",
   "execution_count": null,
   "metadata": {},
   "outputs": [],
   "source": [
    "# creating a function to calculate the category bucket for the conversions.\n",
    "\n",
    "def conversion_category(conversion_col):\n",
    "    category = []\n",
    "    for conversion in data[conversion_col]:\n",
    "        if conversion < 6:\n",
    "            category.append('less than 6')\n",
    "        elif 6 <= conversion < 11:\n",
    "            category.append('6 - 10')\n",
    "        elif 11 <= conversion <16:\n",
    "            category.append('10 - 15')\n",
    "        else:\n",
    "            category.append('more than 15')\n",
    "    return category\n",
    "\n",
    "# applying function of different campaign's conversions\n",
    "data['Facebook Conversion Category'] = conversion_category('Facebook Ad Conversions')\n",
    "data['AdWords Conversion Category'] = conversion_category('AdWords Ad Conversions')"
   ]
  },
  {
   "cell_type": "code",
   "execution_count": null,
   "metadata": {},
   "outputs": [],
   "source": [
    "data['Facebook Conversion Category'].value_counts()"
   ]
  },
  {
   "cell_type": "code",
   "execution_count": null,
   "metadata": {},
   "outputs": [],
   "source": [
    "data['AdWords Conversion Category'].value_counts()"
   ]
  },
  {
   "cell_type": "code",
   "execution_count": null,
   "metadata": {},
   "outputs": [],
   "source": [
    "facebook = pd.DataFrame(data['Facebook Conversion Category'].value_counts()).reset_index().rename(columns = {'Facebook Conversion Category' : 'Category'})\n",
    "facebook"
   ]
  },
  {
   "cell_type": "code",
   "execution_count": null,
   "metadata": {},
   "outputs": [],
   "source": [
    "AdWords = pd.DataFrame(data['AdWords Conversion Category'].value_counts()).reset_index().rename(columns = {'AdWords Conversion Category' : 'Category'})\n",
    "AdWords"
   ]
  },
  {
   "cell_type": "code",
   "execution_count": null,
   "metadata": {},
   "outputs": [],
   "source": [
    "category_df = pd.merge(facebook , AdWords , on = 'Category' , how = 'outer').fillna(0)\n",
    "category_df = category_df.iloc[[3,1,0,2]]\n",
    "category_df"
   ]
  },
  {
   "cell_type": "code",
   "execution_count": null,
   "metadata": {},
   "outputs": [],
   "source": [
    "X_axis = np.arange(len(category_df))\n",
    "plt.figure(figsize = (15,6))\n",
    "plt.bar(X_axis - 0.2, category_df['count_x'], 0.4, label = 'Facebook', color = '#03989E', linewidth = 1, edgecolor = 'k')\n",
    "plt.bar(X_axis + 0.2, category_df['count_y'], 0.4, label = 'AdWords', color = '#A62372', linewidth = 1, edgecolor = 'k')\n",
    "\n",
    "plt.xticks(X_axis, category_df['Category'])\n",
    "plt.xlabel('Conversion Category')\n",
    "plt.ylabel('Number of Days')\n",
    "plt.title('Frequency of Daily Conversions by Conversion Categories', fontsize = 15)\n",
    "plt.legend(fontsize = 15)\n",
    "plt.show"
   ]
  },
  {
   "cell_type": "markdown",
   "metadata": {},
   "source": [
    "- The data indicates that the Facebook campaign had a higher frequency of days with high conversion rates compared to the AdWords campaign. The AdWords campaign mainly experienced either very low conversion rates (less than 6) or moderate ones (6-10).\n",
    "- There is a significant variance in the number of high-conversion days between the two campaigns.\n",
    "- The lack of any days with conversions between 10-15 and above 15 for the AdWords campaign suggests the need to review the strategies employed or external factors that may have influenced these numbers."
   ]
  },
  {
   "cell_type": "markdown",
   "metadata": {},
   "source": [
    "#### Do more clicks really lead to more conversions?"
   ]
  },
  {
   "cell_type": "code",
   "execution_count": null,
   "metadata": {},
   "outputs": [],
   "source": [
    "plt.figure(figsize = (15,6))\n",
    "plt.subplot(1,2,1)\n",
    "plt.title('Facebook')\n",
    "sns.scatterplot(x = data['Facebook Ad Clicks'], y = data['Facebook Ad Conversions'], color = '#03989E')\n",
    "plt.xlabel('Clicks')\n",
    "plt.ylabel('Conversions')\n",
    "\n",
    "plt.subplot(1,2,2)\n",
    "plt.title('AdWords')\n",
    "sns.scatterplot(x = data['AdWords Ad Clicks'], y = data['AdWords Ad Conversions'], color = '#03989E')\n",
    "plt.xlabel('Clicks')\n",
    "plt.ylabel('Conversions')\n",
    "plt.show()"
   ]
  },
  {
   "cell_type": "code",
   "execution_count": null,
   "metadata": {},
   "outputs": [],
   "source": [
    "facebook_click_conversion_corr = data[['Facebook Ad Clicks', 'Facebook Ad Conversions']].corr()\n",
    "facebook_click_conversion_corr"
   ]
  },
  {
   "cell_type": "code",
   "execution_count": null,
   "metadata": {},
   "outputs": [],
   "source": [
    "AdWords_click_conversion_corr = data[['AdWords Ad Clicks', 'AdWords Ad Conversions']].corr()\n",
    "AdWords_click_conversion_corr"
   ]
  },
  {
   "cell_type": "code",
   "execution_count": null,
   "metadata": {},
   "outputs": [],
   "source": [
    "print('Correlation Coefficients : ')\n",
    "print('Facebook :', round(facebook_click_conversion_corr.values[0,1],2))\n",
    "print('Adwords :', round(AdWords_click_conversion_corr.values[0,1],2))"
   ]
  },
  {
   "cell_type": "markdown",
   "metadata": {},
   "source": [
    "- The correlation coefficient of 0.87 for Facebook ads indicates a strong positive linear relationship between clicks and conversions. This means that as the number of clicks on Facebook ads increases, sales tend to increase as well, demonstrating the high effectiveness of Facebook ads in driving sales for the business.\r",
    "- \n",
    "For the AdWords campaign, the correlation coefficient of 0.45 indicates a moderate positive linear relationship between clicks and sales. While there is a positive correlation, it is not as strong as the one observed for Facebook ads, suggesting that the effectiveness of AdWords ads in contributing to sales may be influenced by other factors that require further analysis and optimization."
   ]
  },
  {
   "cell_type": "markdown",
   "metadata": {},
   "source": [
    "# Hypothesis Testing"
   ]
  },
  {
   "cell_type": "markdown",
   "metadata": {},
   "source": [
    "The null and alternative hypotheses are as follows::\n",
    "\n",
    "**Null Hypothesis (H0):** The number of conversions from Facebook advertising is less than or equal to the number of conversions from AdWords advertising.\n",
    "    H0: μ_Facebook ≤ μ_AdWords\n",
    "\n",
    "**Alternative Hypothesis (H1):** The number of conversions from Facebook advertising is greater than the number of conversions from AdWords advertising.\n",
    "    H1: μ_Facebook > μ_AdWords\n",
    "\n",
    "- The hypothesis testing aims to determine whether the data supports the claim that Facebook advertising generates more conversions than AdWords advertising."
   ]
  },
  {
   "cell_type": "code",
   "execution_count": null,
   "metadata": {},
   "outputs": [],
   "source": [
    "print('Mean conversions : \\n')\n",
    "print('Facebook : ', round(data['Facebook Ad Conversions'].mean(),2))\n",
    "print('AdWords : ', round(data['AdWords Ad Conversions'].mean(),2))"
   ]
  },
  {
   "cell_type": "code",
   "execution_count": null,
   "metadata": {},
   "outputs": [],
   "source": [
    "import scipy.stats as st\n",
    "t_stats, p_value = st.ttest_ind(a = data['Facebook Ad Conversions'], b = data['AdWords Ad Conversions'], equal_var = False)\n",
    "print('\\nT statistics', t_stats,'\\np-value',p_value)"
   ]
  },
  {
   "cell_type": "code",
   "execution_count": null,
   "metadata": {},
   "outputs": [],
   "source": [
    "if p_value < 0.05:\n",
    "    print('Reject the null hypothesis.')\n",
    "else:\n",
    "    print('Accept the null hypothesis.')"
   ]
  },
  {
   "cell_type": "markdown",
   "metadata": {},
   "source": [
    "- The mean number of conversions from Facebook ads (11.74) is substantially higher than the mean from AdWords ads (5.98), suggesting that, on average, Facebook advertising is more effective in generating conversions.\n",
    "- The large T-statistic (32.88) and extremely small p-value (9.35e-134) provide strong evidence against the null hypothesis, supporting the alternative hypothesis that the number of conversions from Facebook advertising is greater than from AdWords advertising.\n",
    "- The results strongly indicate that Facebook advertising is a more effective channel for generating conversions compared to AdWords advertising, based on the sample data analyzed.\n",
    "- Given the significant difference in conversion rates, it is recommended to consider reallocating resources towards Facebook advertising efforts. This could involve increasing ad spend, expanding targeting efforts, or experimenting with different ad formats to capitalize on Facebook's effectiveness in driving conversions."
   ]
  },
  {
   "cell_type": "markdown",
   "metadata": {},
   "source": [
    "# Regression Analysis\n",
    "##### Determining the expected number of Facebook ad conversions given a certain number of Facebook ad clicks, by establishing a predictive relationship between the two variables using regression analysis"
   ]
  },
  {
   "cell_type": "code",
   "execution_count": null,
   "metadata": {},
   "outputs": [],
   "source": [
    "X = data[['Facebook Ad Clicks']]\n",
    "Y = data[['Facebook Ad Conversions']]\n",
    "\n",
    "prediction = LinearRegression().fit(X,Y).predict(X)"
   ]
  },
  {
   "cell_type": "code",
   "execution_count": null,
   "metadata": {},
   "outputs": [],
   "source": [
    "r2 = r2_score(Y, prediction)*100\n",
    "mse = mean_squared_error(Y, prediction)\n",
    "print('R2 Score Accuracy : ',round(r2,2))\n",
    "print('Mean Squared Error : ',round(mse,2))"
   ]
  },
  {
   "cell_type": "code",
   "execution_count": null,
   "metadata": {},
   "outputs": [],
   "source": [
    "plt.figure(figsize= (8,6))\n",
    "sns.scatterplot(x = data['Facebook Ad Clicks'], y= data['Facebook Ad Conversions'], color = '#03989E', label = 'Actual data points')\n",
    "plt.plot(data['Facebook Ad Clicks'], prediction, color = '#A62372', label = 'Best Fit Line')\n",
    "plt.legend()\n",
    "plt.show()"
   ]
  },
  {
   "cell_type": "code",
   "execution_count": null,
   "metadata": {},
   "outputs": [],
   "source": [
    "print(f'For {60} clicks, Expected Conversion : {round(LinearRegression().fit(X,Y).predict([[60]])[0][0],2)}')"
   ]
  },
  {
   "cell_type": "markdown",
   "metadata": {},
   "source": [
    "- The linear regression model exhibits a reasonably good predictive power, with an R-squared score of 76.35%. This suggests that approximately 76.35% of the variability in Facebook ad conversions can be explained by the number of Facebook ad clicks.\r",
    "- \n",
    "With the insights provided by this regression model, businesses can make informed decisions about resource allocation, budget planning, and campaign optimization for their Facebook advertising efforts. For instance, knowing the expected number of Facebook ad conversions for a given number of ad clicks can help in setting realistic campaign goals, optimizing ad spend, and assessing the return on investment (ROI) of Facebook advertising campaigns."
   ]
  },
  {
   "cell_type": "markdown",
   "metadata": {},
   "source": [
    "# Analysing Facebook Campaign matrices over time"
   ]
  },
  {
   "cell_type": "code",
   "execution_count": null,
   "metadata": {},
   "outputs": [],
   "source": [
    "# cleaning data (removing unwanted symbols from the columns and converting them into numerical columns)\n",
    "\n",
    "data ['Facebook Click-Through Rate (Clicks / View)'] = data ['Facebook Click-Through Rate (Clicks / View)'].apply(lambda x:float(x[:-1]))\n",
    "data ['Facebook Conversion Rate (Conversions / Clicks)'] = data ['Facebook Conversion Rate (Conversions / Clicks)'].apply(lambda x:float(x[:-1]))\n",
    "data ['Facebook Cost per Click (Ad Cost / Clicks)'] = data ['Facebook Cost per Click (Ad Cost / Clicks)'].apply(lambda x: float(x[1:]))\n",
    "data ['Cost per Facebook Ad'] = data ['Cost per Facebook Ad'].apply(lambda x: float(x[1:]))"
   ]
  },
  {
   "cell_type": "code",
   "execution_count": null,
   "metadata": {},
   "outputs": [],
   "source": [
    "#filtering for facebook campaign\n",
    "\n",
    "data = data [['Date', 'Facebook Ad Views','Facebook Ad Clicks', 'Facebook Ad Conversions', 'Cost per Facebook Ad',\n",
    "              'Facebook Click-Through Rate (Clicks / View)','Facebook Conversion Rate (Conversions / Clicks)',\n",
    "              'Facebook Cost per Click (Ad Cost / Clicks)']]"
   ]
  },
  {
   "cell_type": "markdown",
   "metadata": {},
   "source": [
    "#### At what times of the month or days of the week do we observe the conversions?\n",
    "to identify patterns in conversion rates across different months and days of the week to determine the optimal timing for advertising campaigns"
   ]
  },
  {
   "cell_type": "code",
   "execution_count": null,
   "metadata": {},
   "outputs": [],
   "source": [
    "# extracting month and week day from the date column\n",
    "\n",
    "data ['month'] = data ['Date'].dt.month\n",
    "data ['week'] = data ['Date'].dt.weekday\n",
    "\n",
    "plt.figure(figsize=(8,5))\n",
    "plt.title('Weekly Conversions')\n",
    "weekly_conversion = data.groupby('week') [['Facebook Ad Conversions']].sum()\n",
    "week_names= ['Sunday', 'Monday', 'Tuesday', 'Wednesday', 'Thursday', 'Friday', 'Saturday']\n",
    "plt.bar(week_names, weekly_conversion ['Facebook Ad Conversions'], color = '#03989E', edgecolor = 'k')"
   ]
  },
  {
   "cell_type": "code",
   "execution_count": null,
   "metadata": {},
   "outputs": [],
   "source": [
    "plt.figure(figsize=(8,5))\n",
    "plt.title('Monthly Conversions')\n",
    "monthly_conversion = data.groupby('month') [['Facebook Ad Conversions']].sum()\n",
    "month_names= ['Jan', 'Feb', 'Mar', 'Apr', 'May', 'Jun', 'Jul', 'Aug', 'Sept', 'Oct', 'Nov', 'Dec']\n",
    "plt.plot(month_names, monthly_conversion ['Facebook Ad Conversions'],'-o', color = '#03989E')\n",
    "plt.show()"
   ]
  },
  {
   "cell_type": "markdown",
   "metadata": {},
   "source": [
    "- Across weekdays over the year, the total number of conversions remains relatively consistent, indicating a steady level of engagement throughout the week. However, Mondays and Tuesdays consistently exhibit higher conversion rates compared to other days, suggesting heightened user engagement or responsiveness to marketing efforts at the beginning of the workweek.\r",
    "- \n",
    "An examination of the monthly conversion trends reveals an overall upward trajectory, indicating a general increase in conversions over time. However, certain months, such as February, April, May, June, August, and November, experience a decline in conversions compared to neighboring months. These periods of decreased conversion rates could be influenced by factors such as seasonal fluctuations, changes in consumer behavior, or adjustments in marketing strategies."
   ]
  },
  {
   "cell_type": "markdown",
   "metadata": {},
   "source": [
    "#### How does the Cost Per Conversion (CPC) trend over time?\n",
    "Cost Per Conversion (CPC) is a metric used to evaluate the cost-effectiveness and profitability of an online advertising campaign. It represents the average cost incurred for each conversion generated by the campaign. Analyzing the CPC trend over time helps marketers understand their spending in relation to conversions obtained, enabling them to optimize their advertising spend and targeting strategies effectively."
   ]
  },
  {
   "cell_type": "code",
   "execution_count": null,
   "metadata": {
    "scrolled": true
   },
   "outputs": [],
   "source": [
    "plt.figure(figsize=(8,5))\n",
    "plt.title('Monthly Cost per Conversion(CPC)')\n",
    "monthly = data.groupby('month') [['Facebook Ad Conversions','Cost per Facebook Ad']].sum()\n",
    "monthly['Cost per Conversion(CPC)'] = monthly['Cost per Facebook Ad']/monthly['Facebook Ad Conversions']\n",
    "plt.plot(month_names, monthly['Cost per Conversion(CPC)'],'-o', color = '#03989E')\n",
    "plt.show()"
   ]
  },
  {
   "cell_type": "markdown",
   "metadata": {},
   "source": [
    "- The CPC trend over the 12-month period shows some fluctuations but overall maintains a relatively stable range.\n",
    "- May and November exhibit the lowest CPC values, indicating potentially more cost-effective advertising or higher conversion rates during these months.\n",
    "- February has the highest CPC value, suggesting that advertising costs may be relatively higher during this month compared to others.\n",
    "- Lower CPC values in certain months, such as May and November, could indicate periods of higher advertising effectiveness or more favorable market conditions for driving conversions.\n",
    "- It is recommended to consider allocating a larger portion of the advertising budget to months with historically lower CPC values, such as May and November, to maximize the return on investment (ROI) and capitalize on periods of higher advertising effectiveness."
   ]
  },
  {
   "cell_type": "markdown",
   "metadata": {},
   "source": [
    "#### Is there a long-term equilibrium relationship between advertising spend and conversion rates that suggests a st budget changes on conversions over time?\n",
    "to determine whether there exists a long-term equilibrium relationship between advertising spend and conversion rates, which would indicate a stable and predictable impact of budget changes on conversions over an extended period."
   ]
  },
  {
   "cell_type": "code",
   "execution_count": null,
   "metadata": {},
   "outputs": [],
   "source": [
    "score, p_value,_ = coint(data ['Cost per Facebook Ad'], data ['Facebook Ad Conversions'])\n",
    "print('Cointegration test score:', score)\n",
    "print('P-value:', p_value)\n",
    "if p_value < 0.05:\n",
    "    print(\"\\np-value is less than significance value, Reject the null hypothesis\")\n",
    "else:\n",
    "    print(\"\\np-value is greater than significance value, Accept the null hypothesis\")"
   ]
  },
  {
   "cell_type": "markdown",
   "metadata": {},
   "source": [
    "A cointegration test is conducted to determine the presence of a long-term equilibrium relationship between advertising spend (cost) and conversions.\n",
    "- Since the p-value is significantly lower than the chosen significance level, we reject the null hypothesis. This indicates the presence of a long-term equilibrium relationship between advertising spend (cost) and conversions,allowing businesses to optimize their advertising strategies for stable and predictable conversion rates.\n",
    "- Businesses can leverage this understanding of the stable relationship between cost and conversions to optimize their advertising strategies. By investing in campaigns that demonstrate a strong return on investment (ROI) and adjusting spending based on performance, companies can maximize conversions while minimizing costs."
   ]
  },
  {
   "cell_type": "markdown",
   "metadata": {},
   "source": [
    "## Final Recommendations for Business Optimization\n",
    "\n",
    "### 1. Allocate More Resources to Facebook Advertising:\n",
    "- The analysis consistently shows that Facebook advertising generates higher conversions compared to AdWords. Therefore, it's recommended to allocate more resources, such as budget and manpower, to Facebook advertising efforts.\n",
    "\n",
    "### 2. Optimize Facebook Ad Performance:\n",
    "- Focus on optimizing Facebook ad performance by:\n",
    "  - Targeting specific audience segments that are more likely to convert.\n",
    "  - Experimenting with different ad formats, messaging, and visuals to improve engagement and conversion rates.\n",
    "  - Monitoring and adjusting ad campaigns regularly based on performance metrics to maximize ROI.\n",
    "\n",
    "### 3. Consider Seasonal Trends and Timing:\n",
    "- Take into account seasonal trends and timing when planning advertising campaigns. For example, Mondays and Tuesdays consistently exhibit higher conversion rates, suggesting these days may be more effective for launching campaigns or promoting new products/services.\n",
    "\n",
    "### 4. Review AdWords Strategy:\n",
    "- While AdWords still contributes to conversions, the analysis indicates that its effectiveness may be influenced by other factors. Review the AdWords strategy, targeting, and keyword selection to improve performance and ensure it complements the overall advertising strategy.\n",
    "\n",
    "### 5. Utilize Predictive Models for Planning:\n",
    "- Use predictive models, such as regression analysis, to forecast the expected number of conversions based on ad clicks. This can help in setting realistic campaign goals and optimizing ad spend for better ROI.\n",
    "\n",
    "### 6. Monitor CPC Trends and Adjust Spending:\n",
    "- Continuously monitor Cost Per Conversion (CPC) trends over time. Allocate a larger portion of the advertising budget to months with historically lower CPC values, such as May and November, to maximize ROI and capitalize on periods of higher advertising effectiveness.\n",
    "\n",
    "### 7. Maintain Consistency in Engagement:\n",
    "- Maintain consistent engagement throughout the week, as conversion rates remain relatively stable. Ensure marketing efforts are evenly distributed to leverage user engagement across all days of the week.\n",
    "\n",
    "### 8. Long-term Strategy Based on Cost-Conversion Relationship:\n",
    "- Leverage the long-term equilibrium relationship between advertising spend and conversions. Optimize advertising strategies based on this relationship to achieve stable and predictable conversion rates over time.\n",
    "\n",
    "By implementing these suggestions, the business can improve the overall effectiveness of its advertising campaigns, maximize conversions, and achieve better returns on investment.\n"
   ]
  },
  {
   "cell_type": "code",
   "execution_count": null,
   "metadata": {},
   "outputs": [],
   "source": []
  }
 ],
 "metadata": {
  "kernelspec": {
   "display_name": "Python 3 (ipykernel)",
   "language": "python",
   "name": "python3"
  },
  "language_info": {
   "codemirror_mode": {
    "name": "ipython",
    "version": 3
   },
   "file_extension": ".py",
   "mimetype": "text/x-python",
   "name": "python",
   "nbconvert_exporter": "python",
   "pygments_lexer": "ipython3",
   "version": "3.10.14"
  }
 },
 "nbformat": 4,
 "nbformat_minor": 4
}
